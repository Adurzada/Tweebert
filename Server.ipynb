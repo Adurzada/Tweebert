{
 "cells": [
  {
   "cell_type": "code",
   "execution_count": null,
   "id": "5b43190b",
   "metadata": {},
   "outputs": [
    {
     "name": "stderr",
     "output_type": "stream",
     "text": [
      "Some weights of the PyTorch model were not used when initializing the TF 2.0 model TFRobertaForSequenceClassification: ['roberta.embeddings.position_ids']\n",
      "- This IS expected if you are initializing TFRobertaForSequenceClassification from a PyTorch model trained on another task or with another architecture (e.g. initializing a TFBertForSequenceClassification model from a BertForPreTraining model).\n",
      "- This IS NOT expected if you are initializing TFRobertaForSequenceClassification from a PyTorch model that you expect to be exactly identical (e.g. initializing a TFBertForSequenceClassification model from a BertForSequenceClassification model).\n",
      "All the weights of TFRobertaForSequenceClassification were initialized from the PyTorch model.\n",
      "If your task is similar to the task the model of the checkpoint was trained on, you can already use TFRobertaForSequenceClassification for predictions without further training.\n"
     ]
    },
    {
     "name": "stdout",
     "output_type": "stream",
     "text": [
      "[{'label': 'Bullish', 'score': 0.8734595775604248}, {'label': 'Bearish', 'score': 0.9889495372772217}, {'label': 'Bullish', 'score': 0.6595882773399353}]\n",
      " * Serving Flask app \"__main__\" (lazy loading)\n",
      " * Environment: production\n",
      "\u001b[31m   WARNING: This is a development server. Do not use it in a production deployment.\u001b[0m\n",
      "\u001b[2m   Use a production WSGI server instead.\u001b[0m\n",
      " * Debug mode: on\n"
     ]
    },
    {
     "name": "stderr",
     "output_type": "stream",
     "text": [
      " * Running on http://127.0.0.1:5000/ (Press CTRL+C to quit)\n",
      "127.0.0.1 - - [09/Sep/2022 01:27:07] \"OPTIONS /receiver HTTP/1.1\" 200 -\n"
     ]
    },
    {
     "name": "stdout",
     "output_type": "stream",
     "text": [
      "asas@a?:?:?asas\n"
     ]
    },
    {
     "name": "stderr",
     "output_type": "stream",
     "text": [
      "127.0.0.1 - - [09/Sep/2022 01:27:08] \"POST /receiver HTTP/1.1\" 500 -\n",
      "Traceback (most recent call last):\n",
      "  File \"C:\\Users\\user\\Music\\Anaconda\\Lib\\site-packages\\flask\\app.py\", line 2464, in __call__\n",
      "    return self.wsgi_app(environ, start_response)\n",
      "  File \"C:\\Users\\user\\Music\\Anaconda\\Lib\\site-packages\\flask\\app.py\", line 2450, in wsgi_app\n",
      "    response = self.handle_exception(e)\n",
      "  File \"C:\\Users\\user\\Music\\Anaconda\\Lib\\site-packages\\flask_cors\\extension.py\", line 165, in wrapped_function\n",
      "    return cors_after_request(app.make_response(f(*args, **kwargs)))\n",
      "  File \"C:\\Users\\user\\Music\\Anaconda\\Lib\\site-packages\\flask\\app.py\", line 1867, in handle_exception\n",
      "    reraise(exc_type, exc_value, tb)\n",
      "  File \"C:\\Users\\user\\Music\\Anaconda\\Lib\\site-packages\\flask\\_compat.py\", line 39, in reraise\n",
      "    raise value\n",
      "  File \"C:\\Users\\user\\Music\\Anaconda\\Lib\\site-packages\\flask\\app.py\", line 2447, in wsgi_app\n",
      "    response = self.full_dispatch_request()\n",
      "  File \"C:\\Users\\user\\Music\\Anaconda\\Lib\\site-packages\\flask\\app.py\", line 1952, in full_dispatch_request\n",
      "    rv = self.handle_user_exception(e)\n",
      "  File \"C:\\Users\\user\\Music\\Anaconda\\Lib\\site-packages\\flask_cors\\extension.py\", line 165, in wrapped_function\n",
      "    return cors_after_request(app.make_response(f(*args, **kwargs)))\n",
      "  File \"C:\\Users\\user\\Music\\Anaconda\\Lib\\site-packages\\flask\\app.py\", line 1821, in handle_user_exception\n",
      "    reraise(exc_type, exc_value, tb)\n",
      "  File \"C:\\Users\\user\\Music\\Anaconda\\Lib\\site-packages\\flask\\_compat.py\", line 39, in reraise\n",
      "    raise value\n",
      "  File \"C:\\Users\\user\\Music\\Anaconda\\Lib\\site-packages\\flask\\app.py\", line 1950, in full_dispatch_request\n",
      "    rv = self.dispatch_request()\n",
      "  File \"C:\\Users\\user\\Music\\Anaconda\\Lib\\site-packages\\flask\\app.py\", line 1936, in dispatch_request\n",
      "    return self.view_functions[rule.endpoint](**req.view_args)\n",
      "  File \"C:\\Users\\user\\AppData\\Local\\Temp/ipykernel_18980/3202107861.py\", line 133, in postME\n",
      "    \n",
      "  File \"C:\\Users\\user\\AppData\\Local\\Temp/ipykernel_18980/3202107861.py\", line 75, in getsentiment\n",
      "    \n",
      "  File \"C:\\Users\\user\\AppData\\Local\\Temp/ipykernel_18980/3202107861.py\", line 108, in algorithm\n",
      "    \n",
      "ZeroDivisionError: division by zero\n",
      "127.0.0.1 - - [09/Sep/2022 01:27:39] \"OPTIONS /receiver HTTP/1.1\" 200 -\n"
     ]
    },
    {
     "name": "stdout",
     "output_type": "stream",
     "text": [
      "asas@a?:?:?Bitcoin\n"
     ]
    },
    {
     "name": "stderr",
     "output_type": "stream",
     "text": [
      "127.0.0.1 - - [09/Sep/2022 01:27:41] \"POST /receiver HTTP/1.1\" 200 -\n"
     ]
    },
    {
     "name": "stdout",
     "output_type": "stream",
     "text": [
      "returning Bullish: 43.63<br>Neutral: 56.37<br>Bearish: 0.0\n"
     ]
    },
    {
     "name": "stderr",
     "output_type": "stream",
     "text": [
      "127.0.0.1 - - [09/Sep/2022 01:44:32] \"OPTIONS /receiver HTTP/1.1\" 200 -\n"
     ]
    },
    {
     "name": "stdout",
     "output_type": "stream",
     "text": [
      "asas@a?:?:?Bitcoin\n"
     ]
    },
    {
     "name": "stderr",
     "output_type": "stream",
     "text": [
      "127.0.0.1 - - [09/Sep/2022 01:44:35] \"POST /receiver HTTP/1.1\" 200 -\n"
     ]
    },
    {
     "name": "stdout",
     "output_type": "stream",
     "text": [
      "returning Bullish: 43.64<br>Neutral: 56.36<br>Bearish: 0.0\n"
     ]
    },
    {
     "name": "stderr",
     "output_type": "stream",
     "text": [
      "127.0.0.1 - - [09/Sep/2022 01:46:50] \"OPTIONS /receiver HTTP/1.1\" 200 -\n"
     ]
    },
    {
     "name": "stdout",
     "output_type": "stream",
     "text": [
      "vetenchun@gmail.com?:?:?Bitcoin OR BTC OR btc OR #BTC\n"
     ]
    },
    {
     "name": "stderr",
     "output_type": "stream",
     "text": [
      "127.0.0.1 - - [09/Sep/2022 01:46:53] \"POST /receiver HTTP/1.1\" 200 -\n"
     ]
    },
    {
     "name": "stdout",
     "output_type": "stream",
     "text": [
      "returning Bullish: 38.98<br>Neutral: 61.019999999999996<br>Bearish: 0.0\n"
     ]
    },
    {
     "name": "stderr",
     "output_type": "stream",
     "text": [
      "127.0.0.1 - - [09/Sep/2022 01:47:56] \"OPTIONS /receiver HTTP/1.1\" 200 -\n"
     ]
    },
    {
     "name": "stdout",
     "output_type": "stream",
     "text": [
      "vetenchun@gmail.com?:?:?Bitcoin\n"
     ]
    },
    {
     "name": "stderr",
     "output_type": "stream",
     "text": [
      "127.0.0.1 - - [09/Sep/2022 01:47:59] \"POST /receiver HTTP/1.1\" 200 -\n"
     ]
    },
    {
     "name": "stdout",
     "output_type": "stream",
     "text": [
      "returning Bullish: 43.64<br>Neutral: 56.36<br>Bearish: 0.0\n"
     ]
    },
    {
     "name": "stderr",
     "output_type": "stream",
     "text": [
      "127.0.0.1 - - [09/Sep/2022 01:56:46] \"OPTIONS /receiver HTTP/1.1\" 200 -\n"
     ]
    },
    {
     "name": "stdout",
     "output_type": "stream",
     "text": [
      "asas@a?:?:?bitcoin\n"
     ]
    },
    {
     "name": "stderr",
     "output_type": "stream",
     "text": [
      "127.0.0.1 - - [09/Sep/2022 01:56:49] \"POST /receiver HTTP/1.1\" 200 -\n"
     ]
    },
    {
     "name": "stdout",
     "output_type": "stream",
     "text": [
      "returning Bullish: 45.07<br>Neutral: 54.93<br>Bearish: 0.0\n"
     ]
    }
   ],
   "source": [
    "#!/usr/bin/env python\n",
    "# coding: utf-8\n",
    "\n",
    "# # EUDEKLI\n",
    "\n",
    "\n",
    "# In[1]:\n",
    "\n",
    "\n",
    "# creds to https://huggingface.co/ElKulako/cryptobert\n",
    "from transformers import TextClassificationPipeline, TFAutoModelForSequenceClassification, AutoTokenizer\n",
    "model_name = \"ElKulako/cryptobert\"\n",
    "tokenizer = AutoTokenizer.from_pretrained(model_name, use_fast=True)\n",
    "model = TFAutoModelForSequenceClassification.from_pretrained(model_name, num_labels = 3,from_pt=True)\n",
    "pipe = TextClassificationPipeline(model=model, tokenizer=tokenizer, max_length=64, truncation=True, padding = 'max_length')\n",
    "# post_1 & post_3 = bullish, post_2 = bearish\n",
    "post_1 = \" see y'all tomorrow and can't wait to see ada in the morning, i wonder what price it is going to be at. 😎🐂🤠💯😴, bitcoin is looking good go for it and flash by that 45k. \"\n",
    "post_2 = \"  alright racers, it’s a race to the bottom! good luck today and remember there are no losers (minus those who invested in currency nobody really uses) take your marks... are you ready? go!!\" \n",
    "post_3 = \" i'm never selling. the whole market can bottom out. i'll continue to hold this dumpster fire until the day i die if i need to.\" \n",
    "df_posts = [post_1, post_2, post_3]\n",
    "preds = pipe(df_posts)\n",
    "print(preds)\n",
    "\n",
    "\n",
    "# # TWITTER \n",
    "\n",
    "# In[2]:\n",
    "\n",
    "\n",
    "# IMPORTS\n",
    "#!pip install torch\n",
    "# NEED TENSORFLOW!\n",
    "import torch\n",
    "import tweepy\n",
    "from textblob import TextBlob as tb\n",
    "import pandas as pd\n",
    "import numpy as np\n",
    "import re\n",
    "import matplotlib.pyplot as plt\n",
    "from datetime import datetime\n",
    "plt.style.use('fivethirtyeight')\n",
    "# Account\n",
    "apikey = 'Your Apis'\n",
    "apisec = 'Your Apis'\n",
    "# API of this account\n",
    "accesskey = 'Your Apis'\n",
    "accesssecret = 'Your Apis'\n",
    "auth = tweepy.OAuthHandler(apikey,apisec)\n",
    "auth.set_access_token(accesskey,accesssecret)\n",
    "api = tweepy.API(auth, wait_on_rate_limit=True)\n",
    "\n",
    "\n",
    "\n",
    "def getsentiment(query):\n",
    "    username_tweets = tweepy.Cursor(api.search_tweets, q=(str(query) + \" -Giveaway -giveaway -'for free' -filter:retweets lang:en\"), result_type='popular', tweet_mode='extended')   \n",
    "    tweets = [i for i in username_tweets.items(50)]\n",
    "    info = []\n",
    "    for tweet in tweets:\n",
    "        text = tweet._json[\"full_text\"]\n",
    "        fav = (tweet.favorite_count)\n",
    "        retw = (tweet.retweet_count)\n",
    "        date = (tweet.created_at).strftime('%Y/%m/%d')\n",
    "        author = tweet.author\n",
    "        info.append([date,author,text,fav,retw])\n",
    "    df = pd.DataFrame(data = info, columns=['date','a','t','l','r'], index = range(len(info)))\n",
    "    def clean(t):\n",
    "        t = re.sub('#[B|b]','b',t)\n",
    "        #t = re.sub('#[A-Za-z0-9]+','',t)     #remove #s\n",
    "        t = re.sub('\\\\n',' ',t) # remove new lines (Enters)\n",
    "        t = re.sub('https?:\\/\\/\\S+','',t) #removes any hyperlinks\n",
    "        return t\n",
    "    df['ct'] = df['t'].apply(clean)\n",
    "    df.drop(columns=['t'],inplace=True)\n",
    "    df['sentiment'] = df['ct'].apply(pipe)\n",
    "    values = algorithm(df)\n",
    "    \n",
    "    def visual(values):\n",
    "        s = 'Bullish: ' + str(values['Bullish']) + '<br>Neutral: ' + str(values['Neutral']) + '<br>Bearish: ' + str(values['Bearish'])\n",
    "        return s\n",
    "        \n",
    "    \n",
    "    s = visual(values)\n",
    "    return s\n",
    "    #get their sentiments\n",
    "    #calculate the global sentiment \n",
    "\n",
    "\n",
    "# # ALGORITHM\n",
    "\n",
    "# In[3]:\n",
    "\n",
    "\n",
    "def algorithm(df):\n",
    "    def esquare(dfelement):\n",
    "        return np.sqrt(np.sqrt(np.sqrt(dfelement)))\n",
    "    df['sum'] = df['l'] + df['r']\n",
    "    df['weight'] = df['sum'].apply(esquare)\n",
    "    def getscore(x):\n",
    "        score = x[0]['score']\n",
    "        return score\n",
    "    df['score'] = df['sentiment'].apply(getscore)\n",
    "    values={'Bullish':0,'Bearish':0,'Neutral':0}\n",
    "    for i in range(len(df.index)):\n",
    "        row = df.iloc[i]\n",
    "        values[row.sentiment[0]['label']] += (row.score)**3 * row.weight\n",
    "    sumvalues = sum(values.values())\n",
    "    for i in values:\n",
    "        values[i] = round(values[i] / sumvalues,4) * 100.0\n",
    "    return values\n",
    "\n",
    "\n",
    "# # SERVER\n",
    "\n",
    "# In[4]:\n",
    "\n",
    "\n",
    "from flask import Flask, request, jsonify\n",
    "from flask_cors import CORS\n",
    "#Set up Flaskstrong>:\n",
    "app = Flask(__name__)\n",
    "#Set up Flask to bypass CORSstrong>:\n",
    "cors = CORS(app)\n",
    "#Create the receiver API POST endpoint:\n",
    "@app.route(\"/receiver\", methods=[\"POST\"])\n",
    "def postME():\n",
    "    #print(request.get_data())\n",
    "    data = request.get_json()\n",
    "    d = data\n",
    "    print(data)\n",
    "    data = d.split('?:?:?')\n",
    "    query = data[1]\n",
    "    mail = data[0]\n",
    "    sentiment = getsentiment(query)\n",
    "    print('returning ' + sentiment)\n",
    "\n",
    "    sentiment = jsonify(sentiment)\n",
    "    return sentiment\n",
    "\n",
    "app.run(debug=True, use_reloader=False)\n",
    "\n",
    "\n",
    "\n",
    "\n",
    "\n"
   ]
  }
 ],
 "metadata": {
  "kernelspec": {
   "display_name": "Python 3 (ipykernel)",
   "language": "python",
   "name": "python3"
  },
  "language_info": {
   "codemirror_mode": {
    "name": "ipython",
    "version": 3
   },
   "file_extension": ".py",
   "mimetype": "text/x-python",
   "name": "python",
   "nbconvert_exporter": "python",
   "pygments_lexer": "ipython3",
   "version": "3.9.7"
  }
 },
 "nbformat": 4,
 "nbformat_minor": 5
}
